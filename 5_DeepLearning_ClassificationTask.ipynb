{
  "nbformat": 4,
  "nbformat_minor": 0,
  "metadata": {
    "colab": {
      "provenance": [],
      "toc_visible": true,
      "gpuType": "T4",
      "include_colab_link": true
    },
    "kernelspec": {
      "name": "python3",
      "display_name": "Python 3"
    },
    "language_info": {
      "name": "python"
    },
    "accelerator": "GPU"
  },
  "cells": [
    {
      "cell_type": "markdown",
      "metadata": {
        "id": "view-in-github",
        "colab_type": "text"
      },
      "source": [
        "<a href=\"https://colab.research.google.com/github/Trwsk35/ML-Bootcamp/blob/main/5_DeepLearning_ClassificationTask.ipynb\" target=\"_parent\"><img src=\"https://colab.research.google.com/assets/colab-badge.svg\" alt=\"Open In Colab\"/></a>"
      ]
    },
    {
      "cell_type": "markdown",
      "source": [
        "# Deep Learning"
      ],
      "metadata": {
        "id": "-Z0nY1bPcy7h"
      }
    },
    {
      "cell_type": "markdown",
      "source": [
        "### Deep Neural Networks\n",
        "\n",
        "- Traditional Machine Learning algorithms were trained on extracted features.\n",
        "  - Scaled well for problems involving structured data (tabular)\n",
        "  - Did not scale well for problems involving unstructured data (images, videos, audio, speech, etc)\n",
        "\n",
        "Additional References:\n",
        "1. CMU: 11-785 Introduction to Deep Learning (Spring 2025)\n",
        "https://youtu.be/NXYrIEP1LRs"
      ],
      "metadata": {
        "id": "TWrWzdM7dD6p"
      }
    },
    {
      "cell_type": "code",
      "source": [
        "import torch\n",
        "import torch.nn as nn\n",
        "import torch.optim as optim\n",
        "from torchvision import datasets, transforms\n",
        "import matplotlib.pyplot as plt\n",
        "import numpy as np\n",
        "from sklearn.metrics import confusion_matrix, classification_report\n",
        "import seaborn as sns"
      ],
      "metadata": {
        "id": "MkPubzxfvkSi"
      },
      "execution_count": 38,
      "outputs": []
    },
    {
      "cell_type": "code",
      "source": [
        "# Hyperparameters (User Configurable)\n",
        "learning_rate = 0.001  #@param {type:\"number\"}\n",
        "random_seed = 42  #@param {type:\"integer\"}\n",
        "num_epochs = 8 #@param {type:\"integer\"}\n",
        "\n",
        "# Set random seed for reproducibility\n",
        "torch.manual_seed(random_seed)\n",
        "np.random.seed(random_seed)"
      ],
      "metadata": {
        "id": "fk6gFDOYvo_L"
      },
      "execution_count": 39,
      "outputs": []
    },
    {
      "cell_type": "code",
      "source": [
        "# Device configuration\n",
        "device = torch.device('cuda' if torch.cuda.is_available() else 'cpu')\n",
        "print(f\"Device: {device}\")"
      ],
      "metadata": {
        "id": "epiGCioGvz-C",
        "colab": {
          "base_uri": "https://localhost:8080/"
        },
        "outputId": "ac9b51ca-d5f6-4b22-9e16-3ef58cbdabe1"
      },
      "execution_count": 40,
      "outputs": [
        {
          "output_type": "stream",
          "name": "stdout",
          "text": [
            "Device: cuda\n"
          ]
        }
      ]
    },
    {
      "cell_type": "code",
      "source": [
        "# Data loading and preprocessing\n",
        "transform = transforms.Compose([\n",
        "    transforms.ToTensor(),\n",
        "    transforms.Normalize((0.1307,), (0.3081,))\n",
        "])"
      ],
      "metadata": {
        "id": "k9O1SvBQv-b3"
      },
      "execution_count": 41,
      "outputs": []
    },
    {
      "cell_type": "code",
      "source": [
        "train_dataset = datasets.MNIST('./data', train=True, download=True, transform=transform)\n",
        "test_dataset = datasets.MNIST('./data', train=False, transform=transform)\n",
        "\n",
        "train_loader = torch.utils.data.DataLoader(train_dataset, batch_size=64, shuffle=True)\n",
        "test_loader = torch.utils.data.DataLoader(test_dataset, batch_size=1000, shuffle=False)\n",
        "\n",
        "print(f\"Train dataset classes: {train_loader.dataset.classes}\")\n",
        "print(f\"Test dataset classes: {test_loader.dataset.classes}\")"
      ],
      "metadata": {
        "id": "OQw8QnFqwDC0",
        "colab": {
          "base_uri": "https://localhost:8080/"
        },
        "outputId": "1642c4f8-d816-4c49-c415-2729a74bc235"
      },
      "execution_count": 42,
      "outputs": [
        {
          "output_type": "stream",
          "name": "stdout",
          "text": [
            "Train dataset classes: ['0 - zero', '1 - one', '2 - two', '3 - three', '4 - four', '5 - five', '6 - six', '7 - seven', '8 - eight', '9 - nine']\n",
            "Test dataset classes: ['0 - zero', '1 - one', '2 - two', '3 - three', '4 - four', '5 - five', '6 - six', '7 - seven', '8 - eight', '9 - nine']\n"
          ]
        }
      ]
    },
    {
      "cell_type": "code",
      "source": [
        "# Define the neural network architecture\n",
        "class Net(nn.Module):\n",
        "    def __init__(self):\n",
        "        super(Net, self).__init__()\n",
        "        self.fc1 = nn.Linear(784, 128)\n",
        "        self.relu = nn.ReLU()\n",
        "        self.fc2 = nn.Linear(128, 10)\n",
        "\n",
        "    def forward(self, x):\n",
        "        x = x.view(-1, 784)\n",
        "        x = self.fc1(x)\n",
        "        x = self.relu(x)\n",
        "        x = self.fc2(x)\n",
        "        return x"
      ],
      "metadata": {
        "id": "YpUZqTNIwgwd"
      },
      "execution_count": 43,
      "outputs": []
    },
    {
      "cell_type": "code",
      "source": [
        "# Initialize the model, loss function, and optimizer\n",
        "model = Net().to(device)\n",
        "criterion = nn.CrossEntropyLoss()\n",
        "optimizer = optim.Adam(model.parameters(), lr=learning_rate)"
      ],
      "metadata": {
        "id": "L2hkNF8tw6Hp"
      },
      "execution_count": 44,
      "outputs": []
    },
    {
      "cell_type": "code",
      "source": [
        "# Training loop\n",
        "def train(epoch):\n",
        "    model.train()\n",
        "    # print(f\"Epoch = {epoch}\")\n",
        "    for batch_idx, (data, target) in enumerate(train_loader):\n",
        "        # print(f\"batch number = {batch_idx}\")\n",
        "        data, target = data.to(device), target.to(device)\n",
        "        optimizer.zero_grad()\n",
        "        output = model(data)\n",
        "        loss = criterion(output, target)\n",
        "        loss.backward()\n",
        "        optimizer.step()"
      ],
      "metadata": {
        "id": "CKeLHbmfw8iU"
      },
      "execution_count": 45,
      "outputs": []
    },
    {
      "cell_type": "code",
      "source": [
        "# Testing loop and generating evaluation metrics\n",
        "def test():\n",
        "    model.eval()\n",
        "    correct = 0\n",
        "    total = 0\n",
        "    all_preds = []\n",
        "    all_targets = []\n",
        "    with torch.no_grad():\n",
        "        for data, target in test_loader:\n",
        "          data, target = data.to(device), target.to(device)\n",
        "          output = model(data)\n",
        "          _, predicted = torch.max(output.data, 1)\n",
        "          total += target.size(0)\n",
        "          correct += (predicted == target).sum().item()\n",
        "          all_preds.extend(predicted.cpu().numpy())\n",
        "          all_targets.extend(target.cpu().numpy())\n",
        "    return correct / total, all_preds, all_targets"
      ],
      "metadata": {
        "id": "058m--EZw-x0"
      },
      "execution_count": 46,
      "outputs": []
    },
    {
      "cell_type": "code",
      "source": [
        "# Test accuracy before training\n",
        "accuracy, predictions, targets = test()\n",
        "print(f'Before training: Test Accuracy {accuracy * 100:.2f}%')"
      ],
      "metadata": {
        "id": "_Id_B7XFxWj-",
        "colab": {
          "base_uri": "https://localhost:8080/"
        },
        "outputId": "2d1acbf0-ad49-45c5-f34f-7862b012271c"
      },
      "execution_count": 47,
      "outputs": [
        {
          "output_type": "stream",
          "name": "stdout",
          "text": [
            "Before training: Test Accuracy 10.78%\n"
          ]
        }
      ]
    },
    {
      "cell_type": "code",
      "source": [
        "for epoch in range(1, num_epochs + 1):\n",
        "    train(epoch)\n",
        "    accuracy, predictions, targets = test()\n",
        "    print(f'Epoch {epoch}: Test Accuracy {accuracy * 100:.2f}%')"
      ],
      "metadata": {
        "id": "iHUwBuzExBk7",
        "colab": {
          "base_uri": "https://localhost:8080/"
        },
        "outputId": "eb0fc61e-dd50-436f-a4cb-7d700e0f2997"
      },
      "execution_count": 48,
      "outputs": [
        {
          "output_type": "stream",
          "name": "stdout",
          "text": [
            "Epoch 1: Test Accuracy 95.62%\n",
            "Epoch 2: Test Accuracy 96.87%\n",
            "Epoch 3: Test Accuracy 97.29%\n",
            "Epoch 4: Test Accuracy 97.63%\n",
            "Epoch 5: Test Accuracy 97.56%\n",
            "Epoch 6: Test Accuracy 97.40%\n",
            "Epoch 7: Test Accuracy 97.88%\n",
            "Epoch 8: Test Accuracy 97.64%\n"
          ]
        }
      ]
    },
    {
      "cell_type": "code",
      "source": [
        "# Additional Evaluations (after training)\n",
        "print(classification_report(targets, predictions))\n",
        "\n",
        "cm = confusion_matrix(targets, predictions)\n",
        "plt.figure(figsize=(10, 8))\n",
        "sns.heatmap(cm, annot=True, fmt=\"d\", cmap=\"Blues\")\n",
        "plt.xlabel(\"Predicted Label\")\n",
        "plt.ylabel(\"True Label\")\n",
        "plt.title(\"Confusion Matrix\")\n",
        "plt.show()"
      ],
      "metadata": {
        "id": "9W3NhCA0xFfx",
        "colab": {
          "base_uri": "https://localhost:8080/",
          "height": 1000
        },
        "outputId": "0be1779d-2784-4d49-b62f-e849c7ccff7c"
      },
      "execution_count": 49,
      "outputs": [
        {
          "output_type": "stream",
          "name": "stdout",
          "text": [
            "              precision    recall  f1-score   support\n",
            "\n",
            "           0       0.98      0.99      0.98       980\n",
            "           1       0.99      0.99      0.99      1135\n",
            "           2       0.96      0.99      0.97      1032\n",
            "           3       0.99      0.96      0.98      1010\n",
            "           4       0.98      0.97      0.97       982\n",
            "           5       0.96      0.99      0.97       892\n",
            "           6       0.99      0.98      0.98       958\n",
            "           7       0.99      0.96      0.97      1028\n",
            "           8       0.98      0.97      0.97       974\n",
            "           9       0.96      0.97      0.97      1009\n",
            "\n",
            "    accuracy                           0.98     10000\n",
            "   macro avg       0.98      0.98      0.98     10000\n",
            "weighted avg       0.98      0.98      0.98     10000\n",
            "\n"
          ]
        },
        {
          "output_type": "display_data",
          "data": {
            "text/plain": [
              "<Figure size 1000x800 with 2 Axes>"
            ],
            "image/png": "[encoded data removed]"
          },
          "metadata": {}
        }
      ]
    },
    {
      "cell_type": "markdown",
      "source": [
        "### EXERCISE:\n",
        "1. Modify the code to plot the training accuracy and loss over the training epochs\n",
        "\n",
        "2. Modify the code to plot the test accuracy over the training epochs\n",
        "\n",
        "3. Plot example inferences and show actual and predicted values"
      ],
      "metadata": {
        "id": "hU4zHIkux7Fx"
      }
    }
  ]
}